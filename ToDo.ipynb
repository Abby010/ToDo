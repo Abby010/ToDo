{
 "cells": [
  {
   "cell_type": "code",
   "execution_count": 6,
   "id": "8f067f5e-ca3f-4a8f-94a5-0d15da702885",
   "metadata": {},
   "outputs": [
    {
     "data": {
      "text/plain": [
       "True"
      ]
     },
     "execution_count": 6,
     "metadata": {},
     "output_type": "execute_result"
    }
   ],
   "source": [
    "class ToDo:\n",
    "\n",
    "    number_of_lists = 0\n",
    "\n",
    "    def __init__(self, name: str) -> None:\n",
    "\n",
    "        \"\"\"\n",
    "        Initialises a ToDo list with a name. If the name is not provided then \n",
    "        a default list name is assigned.\n",
    "        \"\"\"\n",
    "\n",
    "        ToDo.number_of_lists += 1\n",
    "\n",
    "        if isinstance(name,str):\n",
    "            self.name_of_the_list = name\n",
    "        else:\n",
    "            self.name_of_the_list = f\"ToDo List {ToDo.number_of_lists}\"\n",
    "            print(\"Warning: Provided Name is not a string\"\n",
    "            f\"Default Name 'ToDo {ToDo.number_of_lists}' has been assigned\")\n",
    "            \n",
    "        self.tasks = []\n",
    "\n",
    "    def add_tasks(self, task: str) -> bool:\n",
    "\n",
    "        \"\"\"\n",
    "        Adds a task to the list if the input is a string. Returns a status indicating failure or success.\n",
    "        \"\"\"\n",
    "\n",
    "        if not isinstance(task,str):\n",
    "            print(\"Error: Task must be a string\\n\")\n",
    "            return False\n",
    "\n",
    "        self.tasks.append(task)\n",
    "        print(\"Task Added\")\n",
    "        return True\n",
    "\n",
    "\n",
    "    def show_tasks(self) -> list:\n",
    "        #ToDo\n",
    "\n",
    "    @classmethod\n",    "    def total_lists(cls):\n",
    "\n",
    "        \"\"\"\n",
    "        Returns the total number of lists a user has\n",
    "        \"\"\"\n",
    "\n",
    "        return cls.number_of_lists\n",
    "        \n",
    "\n",
    "\n",
    "\n",
    "__name__ == \"__main__\""
   ]
  },
  {
   "cell_type": "code",
   "execution_count": null,
   "id": "d577bbe0-6e2b-4392-aee9-d77576c1576f",
   "metadata": {},
   "outputs": [],
   "source": [
    "# Implement testing"
   ]
  }
 ],
 "metadata": {
  "kernelspec": {
   "display_name": "Python 3 (ipykernel)",
   "language": "python",
   "name": "python3"
  },
  "language_info": {
   "codemirror_mode": {
    "name": "ipython",
    "version": 3
   },
   "file_extension": ".py",
   "mimetype": "text/x-python",
   "name": "python",
   "nbconvert_exporter": "python",
   "pygments_lexer": "ipython3",
   "version": "3.11.5"
  }
 },
 "nbformat": 4,
 "nbformat_minor": 5
}
